{
  "metadata": {
    "kernelspec": {
      "name": "python",
      "display_name": "Python (Pyodide)",
      "language": "python"
    },
    "language_info": {
      "codemirror_mode": {
        "name": "python",
        "version": 3
      },
      "file_extension": ".py",
      "mimetype": "text/x-python",
      "name": "python",
      "nbconvert_exporter": "python",
      "pygments_lexer": "ipython3",
      "version": "3.8"
    }
  },
  "nbformat_minor": 4,
  "nbformat": 4,
  "cells": [
    {
      "cell_type": "code",
      "source": "import pandas as pd\nimport numpy as np\n",
      "metadata": {
        "trusted": true,
        "scrolled": true
      },
      "outputs": [],
      "execution_count": 2
    },
    {
      "cell_type": "code",
      "source": "serie1 = np.array([10, 9, 8, 2, 5])\nserie1",
      "metadata": {
        "trusted": true
      },
      "outputs": [
        {
          "execution_count": 16,
          "output_type": "execute_result",
          "data": {
            "text/plain": "array([10,  9,  8,  2,  5])"
          },
          "metadata": {}
        }
      ],
      "execution_count": 16
    },
    {
      "cell_type": "code",
      "source": "serie1 = pd.Series([10, 9, 8, 2, 5])",
      "metadata": {
        "trusted": true
      },
      "outputs": [],
      "execution_count": 10
    },
    {
      "cell_type": "code",
      "source": "serie1.index",
      "metadata": {
        "trusted": true
      },
      "outputs": [
        {
          "execution_count": 11,
          "output_type": "execute_result",
          "data": {
            "text/plain": "RangeIndex(start=0, stop=5, step=1)"
          },
          "metadata": {}
        }
      ],
      "execution_count": 11
    },
    {
      "cell_type": "code",
      "source": "serie2 = pd.Series(np.random.rand(10), index = np.arange(1, 11))\nserie2",
      "metadata": {
        "trusted": true
      },
      "outputs": [
        {
          "execution_count": 8,
          "output_type": "execute_result",
          "data": {
            "text/plain": "1     0.288511\n2     0.932576\n3     0.489561\n4     0.032645\n5     0.405163\n6     0.819862\n7     0.711779\n8     0.252249\n9     0.586474\n10    0.498417\ndtype: float64"
          },
          "metadata": {}
        }
      ],
      "execution_count": 8
    },
    {
      "cell_type": "code",
      "source": "serie2 = pd.Series([4, 7, 6, 3], index=['a', 'b', 'c', 'd'])\nserie2",
      "metadata": {
        "trusted": true
      },
      "outputs": [
        {
          "execution_count": 6,
          "output_type": "execute_result",
          "data": {
            "text/plain": "a    4\nb    7\nc    6\nd    3\ndtype: int64"
          },
          "metadata": {}
        }
      ],
      "execution_count": 6
    },
    {
      "cell_type": "code",
      "source": "serie2 = pd.Series([True, 7, 6, 3], index=['4.5', 'b', 'c', 'd'])\nserie2",
      "metadata": {
        "trusted": true
      },
      "outputs": [],
      "execution_count": null
    },
    {
      "cell_type": "code",
      "source": "capitais = {\n    'Pernambuco': 'Recife',\n    'Paraíba': 'João Pessoa',\n    'Ceará': 'Fortaleza',\n    'Bahia': 'Salvador',\n    'Alagoas': 'Maceió',\n}",
      "metadata": {
        "trusted": true
      },
      "outputs": [],
      "execution_count": 12
    },
    {
      "cell_type": "code",
      "source": "type(capitais)",
      "metadata": {
        "trusted": true
      },
      "outputs": [
        {
          "execution_count": 13,
          "output_type": "execute_result",
          "data": {
            "text/plain": "dict"
          },
          "metadata": {}
        }
      ],
      "execution_count": 13
    },
    {
      "cell_type": "code",
      "source": "serie3 = pd.Series(capitais)\nserie3",
      "metadata": {
        "trusted": true
      },
      "outputs": [
        {
          "execution_count": 14,
          "output_type": "execute_result",
          "data": {
            "text/plain": "Pernambuco         Recife\nParaíba       João Pessoa\nCeará           Fortaleza\nBahia            Salvador\nAlagoas            Maceió\ndtype: object"
          },
          "metadata": {}
        }
      ],
      "execution_count": 14
    },
    {
      "cell_type": "code",
      "source": "type(serie3)",
      "metadata": {
        "trusted": true
      },
      "outputs": [
        {
          "execution_count": 15,
          "output_type": "execute_result",
          "data": {
            "text/plain": "pandas.core.series.Series"
          },
          "metadata": {}
        }
      ],
      "execution_count": 15
    },
    {
      "cell_type": "code",
      "source": "dictEmpresas = {\n    'Apple': 947.092,\n    'Google': 819.573,\n    'Amazon': 705.646,\n    'Microsoft': 611.460,\n    'Tencent': 214.023,\n    'McDonalds': 196.032,\n    'Visa': 191.032,\n    'Facebook': 186.421,\n    'Alibaba': 169.966,\n    'Louis Vuitton': 124.273\n}",
      "metadata": {
        "trusted": true
      },
      "outputs": [],
      "execution_count": 18
    },
    {
      "cell_type": "code",
      "source": "serie4 = pd.Series(dictEmpresas)\nserie4",
      "metadata": {
        "trusted": true
      },
      "outputs": [
        {
          "execution_count": 19,
          "output_type": "execute_result",
          "data": {
            "text/plain": "Apple            947.092\nGoogle           819.573\nAmazon           705.646\nMicrosoft        611.460\nTencent          214.023\nMcDonalds        196.032\nVisa             191.032\nFacebook         186.421\nAlibaba          169.966\nLouis Vuitton    124.273\ndtype: float64"
          },
          "metadata": {}
        }
      ],
      "execution_count": 19
    },
    {
      "cell_type": "code",
      "source": "empresas = {\n    'Apple',\n    'Google',\n    'Amazon',\n    'Microsoft',\n    'Tencent',\n    'McDonalds',\n    'Visa',\n    'Facebook',\n    'Alibaba',\n    'Louis Vuitton'\n}",
      "metadata": {
        "trusted": true
      },
      "outputs": [],
      "execution_count": 22
    },
    {
      "cell_type": "code",
      "source": "bilhoes = [947.062, 819.573, 705.646, 611.460, 214.023, 196.032, 191.032, 186.421, 169.966, 124.273] ",
      "metadata": {
        "trusted": true
      },
      "outputs": [],
      "execution_count": 20
    },
    {
      "cell_type": "code",
      "source": "serie5 = pd.Series(bilhoes, index=empresas)\nserie5",
      "metadata": {
        "trusted": true
      },
      "outputs": [
        {
          "execution_count": 24,
          "output_type": "execute_result",
          "data": {
            "text/plain": "Visa             947.062\nAmazon           819.573\nTencent          705.646\nFacebook         611.460\nApple            214.023\nLouis Vuitton    196.032\nAlibaba          191.032\nMcDonalds        186.421\nGoogle           169.966\nMicrosoft        124.273\ndtype: float64"
          },
          "metadata": {}
        }
      ],
      "execution_count": 24
    },
    {
      "cell_type": "code",
      "source": "import matplotlib.pyplot as plt",
      "metadata": {
        "trusted": true
      },
      "outputs": [],
      "execution_count": 25
    },
    {
      "cell_type": "code",
      "source": "serie5.plot()",
      "metadata": {
        "trusted": true
      },
      "outputs": [
        {
          "execution_count": 26,
          "output_type": "execute_result",
          "data": {
            "text/plain": "<AxesSubplot:>"
          },
          "metadata": {}
        },
        {
          "output_type": "display_data",
          "data": {
            "text/plain": "<Figure size 640x480 with 1 Axes>",
            "image/png": "[encoded data removed]"
          },
          "metadata": {}
        }
      ],
      "execution_count": 26
    },
    {
      "cell_type": "code",
      "source": "",
      "metadata": {
        "trusted": true
      },
      "outputs": [],
      "execution_count": null
    }
  ]
}